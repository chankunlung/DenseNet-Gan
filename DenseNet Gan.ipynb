{
 "cells": [
  {
   "cell_type": "code",
   "execution_count": 5,
   "metadata": {},
   "outputs": [],
   "source": [
    "from matplotlib import pyplot as plt\n",
    "from sklearn.metrics import roc_auc_score    #0.19.1\n",
    "from scipy.stats import pearsonr\n",
    "from mxnet.gluon.model_zoo import vision\n",
    "import cv2           #3.4.1'\n",
    "import copy\n",
    "import mxnet as mx   #1.2.0\n",
    "import numpy as np   #1.14.5\n"
   ]
  },
  {
   "cell_type": "code",
   "execution_count": 6,
   "metadata": {},
   "outputs": [],
   "source": [
    "mnist_train = mx.gluon.data.vision.datasets.MNIST(train=True)\n",
    "mnist_test = mx.gluon.data.vision.datasets.MNIST(train=False)"
   ]
  },
  {
   "cell_type": "code",
   "execution_count": 7,
   "metadata": {},
   "outputs": [],
   "source": [
    "X = np.zeros((7000, 28, 28))\n",
    "for i, (data, label) in enumerate(mnist_train):\n",
    "    if i >=6000:\n",
    "        break\n",
    "    X[i] = data.asnumpy()[:,:,0]\n",
    "for i, (data, label) in enumerate(mnist_test):\n",
    "    if i >=1000:\n",
    "        break\n",
    "    X[6000+i] = data.asnumpy()[:,:,0]"
   ]
  },
  {
   "cell_type": "code",
   "execution_count": 8,
   "metadata": {},
   "outputs": [],
   "source": [
    "#Use a seed so that we get the same random permutation each time\n",
    "np.random.seed(1)\n",
    "p = np.random.permutation(X.shape[0])\n",
    "X = X[p]"
   ]
  },
  {
   "cell_type": "code",
   "execution_count": 9,
   "metadata": {},
   "outputs": [],
   "source": [
    "X = np.asarray([cv2.resize(x, (64,64)) for x in X])"
   ]
  },
  {
   "cell_type": "code",
   "execution_count": 10,
   "metadata": {},
   "outputs": [],
   "source": [
    "X = X.astype(np.float32, copy=False)/(255.0/2) - 1.0"
   ]
  },
  {
   "cell_type": "code",
   "execution_count": 11,
   "metadata": {},
   "outputs": [],
   "source": [
    "X = X.reshape((7000, 1, 64, 64))\n",
    "X = np.tile(X, (1, 3, 1, 1))"
   ]
  },
  {
   "cell_type": "code",
   "execution_count": 12,
   "metadata": {},
   "outputs": [],
   "source": [
    "batch_size = 25\n",
    "image_iter = mx.io.NDArrayIter(X, batch_size=batch_size)"
   ]
  },
  {
   "cell_type": "code",
   "execution_count": 13,
   "metadata": {},
   "outputs": [],
   "source": [
    "class RandIter(mx.io.DataIter):\n",
    "    def __init__(self, batch_size, ndim):\n",
    "        self.batch_size = batch_size\n",
    "        self.ndim = ndim\n",
    "        self.provide_data = [('rand', (batch_size, ndim, 1, 1))]\n",
    "        self.provide_label = []\n",
    "\n",
    "    def iter_next(self):\n",
    "        return True\n",
    "\n",
    "    def getdata(self):\n",
    "        #Returns random numbers from a gaussian (normal) distribution\n",
    "        #with mean=0 and standard deviation = 1\n",
    "        return [mx.random.normal(0, 1.0, shape=(self.batch_size, self.ndim, 1, 1))]"
   ]
  },
  {
   "cell_type": "code",
   "execution_count": 14,
   "metadata": {},
   "outputs": [],
   "source": [
    "Z = 48 #100 512 #2048     #This is your latent space size\n",
    "rand_iter = RandIter(batch_size, Z)"
   ]
  },
  {
   "cell_type": "code",
   "execution_count": null,
   "metadata": {},
   "outputs": [],
   "source": []
  }
 ],
 "metadata": {
  "kernelspec": {
   "display_name": "Python 2",
   "language": "python",
   "name": "python2"
  },
  "language_info": {
   "codemirror_mode": {
    "name": "ipython",
    "version": 2
   },
   "file_extension": ".py",
   "mimetype": "text/x-python",
   "name": "python",
   "nbconvert_exporter": "python",
   "pygments_lexer": "ipython2",
   "version": "2.7.15rc1"
  }
 },
 "nbformat": 4,
 "nbformat_minor": 2
}
